{
 "cells": [
  {
   "cell_type": "code",
   "execution_count": 97,
   "id": "initial_id",
   "metadata": {
    "collapsed": true,
    "ExecuteTime": {
     "end_time": "2024-02-29T22:43:59.071983Z",
     "start_time": "2024-02-29T22:43:58.793822Z"
    }
   },
   "outputs": [],
   "source": [
    "import numpy as np;"
   ]
  },
  {
   "cell_type": "markdown",
   "source": [
    "1. Create a rank 2 (2D) array that resembles the matrix below.\n",
    "[[11 12 13 14]\n",
    " [15 16 17 18]]"
   ],
   "metadata": {
    "collapsed": false
   },
   "id": "ca0fa7c839853020"
  },
  {
   "cell_type": "code",
   "outputs": [
    {
     "name": "stdout",
     "output_type": "stream",
     "text": [
      "[[11 12 13 14]\n",
      " [15 16 17 18]]\n"
     ]
    }
   ],
   "source": [
    "myArray=np.array([[11, 12, 13, 14], [15, 16, 17, 18]]);\n",
    "print(myArray);"
   ],
   "metadata": {
    "collapsed": false,
    "ExecuteTime": {
     "end_time": "2024-02-29T22:43:59.180385Z",
     "start_time": "2024-02-29T22:43:59.095738Z"
    }
   },
   "id": "39807ad7ed09e073",
   "execution_count": 98
  },
  {
   "cell_type": "markdown",
   "source": [
    "1. Create an array with 4 rows and 3 columns of zeros. Your results should look as below:\n",
    "[[0. 0. 0.]\n",
    " [0. 0. 0.]\n",
    " [0. 0. 0.]\n",
    " [0. 0. 0.]]\n"
   ],
   "metadata": {
    "collapsed": false
   },
   "id": "b1bb3c0dfd8549d4"
  },
  {
   "cell_type": "code",
   "outputs": [
    {
     "name": "stdout",
     "output_type": "stream",
     "text": [
      "[[0. 0. 0. 0.]\n",
      " [0. 0. 0. 0.]\n",
      " [0. 0. 0. 0.]\n",
      " [0. 0. 0. 0.]]\n"
     ]
    }
   ],
   "source": [
    "myArray=np.zeros((4, 4));\n",
    "print(myArray);\n",
    "\n"
   ],
   "metadata": {
    "collapsed": false,
    "ExecuteTime": {
     "end_time": "2024-02-29T22:43:59.243702Z",
     "start_time": "2024-02-29T22:43:59.147083Z"
    }
   },
   "id": "45db341e350b1023",
   "execution_count": 99
  },
  {
   "cell_type": "markdown",
   "source": [
    "2.Create an array of ones that has 3 rows and 4 columns. Your results should look as below:\n",
    "[[1. 1. 1. 1.]\n",
    "[1. 1. 1. 1.]\n",
    "[1. 1. 1. 1.]]"
   ],
   "metadata": {
    "collapsed": false
   },
   "id": "3d7b176539b7349c"
  },
  {
   "cell_type": "code",
   "outputs": [
    {
     "name": "stdout",
     "output_type": "stream",
     "text": [
      "[[1. 1. 1. 1.]\n",
      " [1. 1. 1. 1.]\n",
      " [1. 1. 1. 1.]]\n"
     ]
    }
   ],
   "source": [
    "myArray=np.ones((3, 4));\n",
    "print(myArray);\n"
   ],
   "metadata": {
    "collapsed": false,
    "ExecuteTime": {
     "end_time": "2024-02-29T22:43:59.436690Z",
     "start_time": "2024-02-29T22:43:59.255491Z"
    }
   },
   "id": "72ffe18c3a004bdf",
   "execution_count": 100
  },
  {
   "cell_type": "markdown",
   "source": [
    "3. Create an array containing integers 4 to 13 inclusive. Your results should look as below:\n",
    "[4 5 6 7 8 9 10 11 12 13]"
   ],
   "metadata": {
    "collapsed": false
   },
   "id": "61873a1dc31e5b69"
  },
  {
   "cell_type": "code",
   "outputs": [
    {
     "name": "stdout",
     "output_type": "stream",
     "text": [
      "[ 3  4  5  6  7  8  9 10 11 12 13]\n"
     ]
    }
   ],
   "source": [
    "myArray=np.arange(3, 14);\n",
    "print(myArray);"
   ],
   "metadata": {
    "collapsed": false,
    "ExecuteTime": {
     "end_time": "2024-02-29T22:43:59.569652Z",
     "start_time": "2024-02-29T22:43:59.419668Z"
    }
   },
   "id": "f0abb5bbf8098fcf",
   "execution_count": 101
  },
  {
   "cell_type": "markdown",
   "source": [
    "4. Create an array containing\n",
    "[0., 1.5, 3., 4.5]\n"
   ],
   "metadata": {
    "collapsed": false
   },
   "id": "3774d7a0b874ab89"
  },
  {
   "cell_type": "code",
   "outputs": [
    {
     "name": "stdout",
     "output_type": "stream",
     "text": [
      "[0.  1.5 3.  4.5]\n"
     ]
    }
   ],
   "source": [
    "myArray=np.linspace(0, 4.5, 4);\n",
    "print(myArray);"
   ],
   "metadata": {
    "collapsed": false,
    "ExecuteTime": {
     "end_time": "2024-02-29T22:43:59.721424Z",
     "start_time": "2024-02-29T22:43:59.585749Z"
    }
   },
   "id": "39c80c6765c9f2a9",
   "execution_count": 102
  },
  {
   "cell_type": "markdown",
   "source": [
    "5. Create a 2 by 2 array containing '4' in each position. Your results should look like this:\n",
    "[[4 4]\n",
    " [4 4]]"
   ],
   "metadata": {
    "collapsed": false
   },
   "id": "2f28217de8af426a"
  },
  {
   "cell_type": "code",
   "outputs": [
    {
     "name": "stdout",
     "output_type": "stream",
     "text": [
      "[[4 4]\n",
      " [4 4]]\n"
     ]
    }
   ],
   "source": [
    "myArray=np.full((2, 2), 4);\n",
    "print(myArray);"
   ],
   "metadata": {
    "collapsed": false,
    "ExecuteTime": {
     "end_time": "2024-02-29T22:43:59.744919Z",
     "start_time": "2024-02-29T22:43:59.640413Z"
    }
   },
   "id": "d6c02e5a5b24a2a5",
   "execution_count": 103
  },
  {
   "cell_type": "markdown",
   "source": [
    "i. Identity matrix of size 4\n",
    "[[1. 0. 0. 0.]\n",
    " [0. 1. 0. 0.]\n",
    " [0. 0. 1. 0.]\n",
    " [0. 0. 0. 1.]]\n",
    "ii. Diagonal matrix with [10,12] as the diagonals\n",
    "[[10  0]\n",
    " [ 0 12]]"
   ],
   "metadata": {
    "collapsed": false
   },
   "id": "8aa08504f9a92b2a"
  },
  {
   "cell_type": "code",
   "outputs": [
    {
     "name": "stdout",
     "output_type": "stream",
     "text": [
      "[[1. 0. 0. 0.]\n",
      " [0. 1. 0. 0.]\n",
      " [0. 0. 1. 0.]\n",
      " [0. 0. 0. 1.]]\n",
      "[[10  0]\n",
      " [ 0 12]]\n"
     ]
    }
   ],
   "source": [
    "myArray=np.eye(4)\n",
    "print(myArray);\n",
    "myArray=np.diag([10, 12])\n",
    "print(myArray);"
   ],
   "metadata": {
    "collapsed": false,
    "ExecuteTime": {
     "end_time": "2024-02-29T22:43:59.918813Z",
     "start_time": "2024-02-29T22:43:59.761147Z"
    }
   },
   "id": "f40bc149a5c461d8",
   "execution_count": 104
  },
  {
   "cell_type": "markdown",
   "source": [
    "7. Create a 3 by 3 array with random floats in [0, 10]. Your answer may be different because it is random but it should look something like this:\n",
    "[[6.3685612  0.61720883 8.93157783]\n",
    " [3.69927617 5.79879583 7.62145626]\n",
    " [7.21895112 4.02011535 4.48844787]]"
   ],
   "metadata": {
    "collapsed": false
   },
   "id": "50efaf14f5e091df"
  },
  {
   "cell_type": "code",
   "outputs": [
    {
     "name": "stdout",
     "output_type": "stream",
     "text": [
      "[[5.33987861 9.31023947 4.20921712]\n",
      " [1.0856172  9.75387974 4.23077675]\n",
      " [2.79956106 5.43190095 9.28349945]]\n"
     ]
    }
   ],
   "source": [
    "myArray=np.random.random((3,3))*10;\n",
    "print(myArray);"
   ],
   "metadata": {
    "collapsed": false,
    "ExecuteTime": {
     "end_time": "2024-02-29T22:44:00.119228Z",
     "start_time": "2024-02-29T22:43:59.899531Z"
    }
   },
   "id": "1917481df34e6ee5",
   "execution_count": 105
  },
  {
   "cell_type": "markdown",
   "source": [
    "8. Create a 3 by 3 array with random integers in [10, 20]. Your answer may be different because it is random but it should look something like this:\n",
    "[[19 11 13]\n",
    " [10 11 13]\n",
    " [11 14 10]]"
   ],
   "metadata": {
    "collapsed": false
   },
   "id": "f11faae3b53bd6b3"
  },
  {
   "cell_type": "code",
   "outputs": [
    {
     "name": "stdout",
     "output_type": "stream",
     "text": [
      "[[15 17 19]\n",
      " [15 12 15]\n",
      " [13 16 17]]\n"
     ]
    }
   ],
   "source": [
    "myArray=np.random.randint(10, 20, (3, 3));\n",
    "print(myArray);"
   ],
   "metadata": {
    "collapsed": false,
    "ExecuteTime": {
     "end_time": "2024-02-29T22:44:00.142665Z",
     "start_time": "2024-02-29T22:43:59.961281Z"
    }
   },
   "id": "cc4f97958ce8ed54",
   "execution_count": 106
  },
  {
   "cell_type": "markdown",
   "source": [
    "1. Use this array for the following practice:"
   ],
   "metadata": {
    "collapsed": false
   },
   "id": "975afc07baadad83"
  },
  {
   "cell_type": "code",
   "outputs": [],
   "source": [
    "myArray = np.array([[11,12,13], [14,15,16], [17,18,19]])"
   ],
   "metadata": {
    "collapsed": false,
    "ExecuteTime": {
     "end_time": "2024-02-29T22:44:00.390353Z",
     "start_time": "2024-02-29T22:44:00.170346Z"
    }
   },
   "id": "5fffa40b84cc1b0",
   "execution_count": 107
  },
  {
   "cell_type": "markdown",
   "source": [
    "\n",
    "a. Get a subarray of the first row and first 2 columns. Your results should look like this:\n",
    "[11 12]\n"
   ],
   "metadata": {
    "collapsed": false
   },
   "id": "cd75dff3a6dad213"
  },
  {
   "cell_type": "code",
   "outputs": [
    {
     "name": "stdout",
     "output_type": "stream",
     "text": [
      "[11 12]\n"
     ]
    }
   ],
   "source": [
    "\n",
    "print(myArray[0, 0:2]);"
   ],
   "metadata": {
    "collapsed": false,
    "ExecuteTime": {
     "end_time": "2024-02-29T22:44:00.498341Z",
     "start_time": "2024-02-29T22:44:00.364329Z"
    }
   },
   "id": "46f8c83f682ac2a4",
   "execution_count": 108
  },
  {
   "cell_type": "markdown",
   "source": [
    "b. Change all elements in 1st and second row to 0. Your results should look like this:\n",
    "[[ 0  0  0]\n",
    " [ 0  0  0]\n",
    " [17 18 19]]\n",
    " "
   ],
   "metadata": {
    "collapsed": false
   },
   "id": "1ca745caf06fe8e2"
  },
  {
   "cell_type": "code",
   "outputs": [
    {
     "name": "stdout",
     "output_type": "stream",
     "text": [
      "[[ 0  0  0]\n",
      " [ 0  0  0]\n",
      " [17 18 19]]\n"
     ]
    }
   ],
   "source": [
    "myArray[0:2, 0:]=0;\n",
    "print(myArray);"
   ],
   "metadata": {
    "collapsed": false,
    "ExecuteTime": {
     "end_time": "2024-02-29T22:44:00.685395Z",
     "start_time": "2024-02-29T22:44:00.430029Z"
    }
   },
   "id": "43cf7254455dada9",
   "execution_count": 109
  },
  {
   "cell_type": "markdown",
   "source": [
    "2. Create an array that contains [0,1,2,3,4,5,6,7,8,9,10,11,12,13,14,15,16,17,18,19,20] and reverse the order."
   ],
   "metadata": {
    "collapsed": false
   },
   "id": "623366a37668282e"
  },
  {
   "cell_type": "code",
   "outputs": [
    {
     "name": "stdout",
     "output_type": "stream",
     "text": [
      "[20 19 18 17 16 15 14 13 12 11 10  9  8  7  6  5  4  3  2  1  0]\n"
     ]
    }
   ],
   "source": [
    "myArray=np.arange(0, 21);\n",
    "print(myArray[::-1]);"
   ],
   "metadata": {
    "collapsed": false,
    "ExecuteTime": {
     "end_time": "2024-02-29T22:44:00.741208Z",
     "start_time": "2024-02-29T22:44:00.518156Z"
    }
   },
   "id": "95060c23d85290a8",
   "execution_count": 110
  },
  {
   "cell_type": "markdown",
   "source": [
    "RESHAPING\n",
    "Use this array for the following practice:"
   ],
   "metadata": {
    "collapsed": false
   },
   "id": "1fedae358051d151"
  },
  {
   "cell_type": "code",
   "outputs": [],
   "source": [
    "myArray = np.array([[11,12,13], [14,15,16]])"
   ],
   "metadata": {
    "collapsed": false,
    "ExecuteTime": {
     "end_time": "2024-02-29T22:44:00.949855Z",
     "start_time": "2024-02-29T22:44:00.774077Z"
    }
   },
   "id": "e8e9319e879a291e",
   "execution_count": 111
  },
  {
   "cell_type": "markdown",
   "source": [
    "Reshape the array to an array with 3 rows. Your results should look like this:\n",
    "[[11 12]\n",
    " [13 14]\n",
    " [15 16]]\n"
   ],
   "metadata": {
    "collapsed": false
   },
   "id": "7b0daaf153811a9"
  },
  {
   "cell_type": "code",
   "outputs": [
    {
     "name": "stdout",
     "output_type": "stream",
     "text": [
      "[[11 12]\n",
      " [13 14]\n",
      " [15 16]]\n"
     ]
    }
   ],
   "source": [
    "\n",
    "print(myArray.reshape((3, 2)));"
   ],
   "metadata": {
    "collapsed": false,
    "ExecuteTime": {
     "end_time": "2024-02-29T22:44:01.013190Z",
     "start_time": "2024-02-29T22:44:00.866249Z"
    }
   },
   "id": "2b8700bc79b5a1df",
   "execution_count": 112
  },
  {
   "cell_type": "markdown",
   "source": [
    "MATH\n",
    "Use this array for the following practice:\n",
    "myArray = np.arange(10)\n",
    "1. Find the square of every number in array\n",
    "2. Find the square root of every number in array\n",
    "3. Multiply the square of each number in array with its respective square root"
   ],
   "metadata": {
    "collapsed": false
   },
   "id": "5cd2b1adf3e69c1d"
  },
  {
   "cell_type": "code",
   "outputs": [
    {
     "name": "stdout",
     "output_type": "stream",
     "text": [
      "[ 0  1  4  9 16 25 36 49 64 81]\n",
      "[0 1 1 1 2 2 2 2 2 3]\n",
      "[   0    2    5   13   32   71  156  338  724 1536]\n"
     ]
    }
   ],
   "source": [
    "myArray = np.arange(10)\n",
    "for(i) in myArray:\n",
    "    myArray[i]=myArray[i]*myArray[i];\n",
    "print(myArray);\n",
    "myArray = np.arange(10)\n",
    "for(i) in myArray:\n",
    "    myArray[i]=np.sqrt(myArray[i]);\n",
    "print(myArray);\n",
    "myArray = np.arange(10)\n",
    "for(i) in myArray:\n",
    "    myArray[i]=np.sqrt(myArray[i])*np.exp2(myArray[i]);\n",
    "print(myArray);  "
   ],
   "metadata": {
    "collapsed": false,
    "ExecuteTime": {
     "end_time": "2024-02-29T22:44:01.040456Z",
     "start_time": "2024-02-29T22:44:00.995019Z"
    }
   },
   "id": "961e85e874b6ede9",
   "execution_count": 113
  },
  {
   "cell_type": "code",
   "outputs": [],
   "source": [],
   "metadata": {
    "collapsed": false,
    "ExecuteTime": {
     "end_time": "2024-02-29T22:44:01.219640Z",
     "start_time": "2024-02-29T22:44:01.048998Z"
    }
   },
   "id": "9874896e9049a31",
   "execution_count": 113
  },
  {
   "cell_type": "markdown",
   "source": [
    "ADDING ELEMENTS\n",
    "Use this array for the following practice:\n",
    "myArray = np.array([[11,12,13], [14,15,16], [17,18,19]])\n",
    "1. Add a new row of elements containing 20, 21 and 22\n",
    "\n"
   ],
   "metadata": {
    "collapsed": false
   },
   "id": "1a672f6eba43d2ee"
  },
  {
   "cell_type": "code",
   "outputs": [
    {
     "name": "stdout",
     "output_type": "stream",
     "text": [
      "[[11 12 13]\n",
      " [14 15 16]\n",
      " [17 18 19]\n",
      " [20 21 22]]\n"
     ]
    }
   ],
   "source": [
    "myArray = np.array([[11,12,13], [14,15,16], [17,18,19]])\n",
    "myArray=np.vstack([myArray, [20, 21, 22]]);\n",
    "print(myArray)\n"
   ],
   "metadata": {
    "collapsed": false,
    "ExecuteTime": {
     "end_time": "2024-02-29T22:46:11.792192Z",
     "start_time": "2024-02-29T22:46:11.441797Z"
    }
   },
   "id": "53ce1ff2f8663d0a",
   "execution_count": 116
  },
  {
   "cell_type": "markdown",
   "source": [
    "2. Add a new column of elements containing 30, 40 and 50"
   ],
   "metadata": {
    "collapsed": false
   },
   "id": "28e1eee003ce495e"
  },
  {
   "cell_type": "code",
   "outputs": [
    {
     "name": "stdout",
     "output_type": "stream",
     "text": [
      "[[11 12 13 20]\n",
      " [14 15 16 21]\n",
      " [17 18 19 22]]\n"
     ]
    }
   ],
   "source": [
    "myArray = np.array([[11,12,13], [14,15,16], [17,18,19]])\n",
    "myArray=np.hstack([myArray, [[20], [21], [22]]])\n",
    "print(myArray)"
   ],
   "metadata": {
    "collapsed": false,
    "ExecuteTime": {
     "end_time": "2024-02-29T22:54:50.129873Z",
     "start_time": "2024-02-29T22:54:50.006231Z"
    }
   },
   "id": "f5088c58795318d",
   "execution_count": 120
  },
  {
   "cell_type": "markdown",
   "source": [
    "INSERTING ELEMENTS\n",
    "1. Add 1 column of 1 to this array: myArray = np.zeros((2,2))"
   ],
   "metadata": {
    "collapsed": false
   },
   "id": "97feff08318ffc07"
  },
  {
   "cell_type": "code",
   "outputs": [
    {
     "name": "stdout",
     "output_type": "stream",
     "text": [
      "[[0. 0. 1.]\n",
      " [0. 0. 1.]]\n"
     ]
    }
   ],
   "source": [
    "myArray = np.zeros((2,2))\n",
    "myArray=np.hstack([myArray, [[1], [1]]])\n",
    "print(myArray)"
   ],
   "metadata": {
    "collapsed": false,
    "ExecuteTime": {
     "end_time": "2024-02-29T23:49:07.231995Z",
     "start_time": "2024-02-29T23:49:07.194992Z"
    }
   },
   "id": "7d29b0ab4ab1bb53",
   "execution_count": 134
  },
  {
   "cell_type": "markdown",
   "source": [
    "2. Add 2 rows of 2 to the answer from part 1"
   ],
   "metadata": {
    "collapsed": false
   },
   "id": "8f4a074ee348f42a"
  },
  {
   "cell_type": "code",
   "outputs": [
    {
     "name": "stdout",
     "output_type": "stream",
     "text": [
      "[[0. 0. 1.]\n",
      " [0. 0. 1.]\n",
      " [2. 2. 2.]\n",
      " [2. 2. 2.]]\n"
     ]
    }
   ],
   "source": [
    "myArray=np.vstack([myArray, [[2, 2, 2], [2, 2, 2]]])\n",
    "print(myArray)"
   ],
   "metadata": {
    "collapsed": false,
    "ExecuteTime": {
     "end_time": "2024-02-29T23:49:08.838581Z",
     "start_time": "2024-02-29T23:49:08.751634Z"
    }
   },
   "id": "6a2930256fc66e77",
   "execution_count": 135
  },
  {
   "cell_type": "markdown",
   "source": [
    "3. Remove the last column"
   ],
   "metadata": {
    "collapsed": false
   },
   "id": "ef0e00014754c227"
  },
  {
   "cell_type": "code",
   "outputs": [
    {
     "name": "stdout",
     "output_type": "stream",
     "text": [
      "[[0. 0.]\n",
      " [0. 0.]\n",
      " [2. 2.]\n",
      " [2. 2.]]\n"
     ]
    }
   ],
   "source": [
    "myArray = myArray[:, :-1]\n",
    "print(myArray)"
   ],
   "metadata": {
    "collapsed": false,
    "ExecuteTime": {
     "end_time": "2024-02-29T23:49:13.205716Z",
     "start_time": "2024-02-29T23:49:13.170994Z"
    }
   },
   "id": "a4bfbc399484ea51",
   "execution_count": 136
  },
  {
   "cell_type": "markdown",
   "source": [
    "4. Remove the last row"
   ],
   "metadata": {
    "collapsed": false
   },
   "id": "d07feeba0e2ff448"
  },
  {
   "cell_type": "code",
   "outputs": [
    {
     "name": "stdout",
     "output_type": "stream",
     "text": [
      "[[0. 0.]\n",
      " [0. 0.]\n",
      " [2. 2.]]\n"
     ]
    }
   ],
   "source": [
    "myArray = myArray[:-1, :]\n",
    "print(myArray)"
   ],
   "metadata": {
    "collapsed": false,
    "ExecuteTime": {
     "end_time": "2024-02-29T23:49:19.037509Z",
     "start_time": "2024-02-29T23:49:18.945930Z"
    }
   },
   "id": "11e35738a6c90d97",
   "execution_count": 137
  },
  {
   "cell_type": "markdown",
   "source": [
    "DELETING ELEMENTS\n",
    "Remove the elements from the middle column of this array:\n",
    "myArray = np.matrix([[1, 2, 3], [4, 5, 6], [9, 8, 7]])\n",
    "Your codes should look like this:\n",
    "[[1 3]\n",
    " [4 6]\n",
    " [9 7]]"
   ],
   "metadata": {
    "collapsed": false
   },
   "id": "162d272440dcfef6"
  },
  {
   "cell_type": "code",
   "outputs": [
    {
     "name": "stdout",
     "output_type": "stream",
     "text": [
      "[[1 3]\n",
      " [4 6]\n",
      " [9 7]]\n"
     ]
    }
   ],
   "source": [
    "myArray = np.matrix([[1, 2, 3], [4, 5, 6], [9, 8, 7]])\n",
    "myArray = np.delete(myArray, 1, axis=1)\n",
    "\n",
    "print(myArray)"
   ],
   "metadata": {
    "collapsed": false,
    "ExecuteTime": {
     "end_time": "2024-02-29T23:51:34.915664Z",
     "start_time": "2024-02-29T23:51:34.854823Z"
    }
   },
   "id": "26aa467c38de3442",
   "execution_count": 138
  },
  {
   "cell_type": "markdown",
   "source": [
    "Replace all odd numbers in the given array with -1\n",
    "Start with:\n",
    "exercise_1 = np.array([0, 1, 2, 3, 4, 5, 6, 7, 8, 9])\n",
    "Desired output:\n",
    "[ 0, -1, 2, -1, 4, -1, 6, -1, 8, -1]"
   ],
   "metadata": {
    "collapsed": false
   },
   "id": "c0d42cb6d95f5af0"
  },
  {
   "cell_type": "code",
   "outputs": [
    {
     "name": "stdout",
     "output_type": "stream",
     "text": [
      "[ 0 -1  2 -1  4 -1  6 -1  8 -1]\n"
     ]
    }
   ],
   "source": [
    "exercise_1 = np.array([0, 1, 2, 3, 4, 5, 6, 7, 8, 9])\n",
    "for(i) in exercise_1:\n",
    "    if(i%2)==1:\n",
    "        exercise_1[i]=-1\n",
    "print(exercise_1)\n",
    "    "
   ],
   "metadata": {
    "collapsed": false,
    "ExecuteTime": {
     "end_time": "2024-02-29T23:55:02.253438Z",
     "start_time": "2024-02-29T23:55:02.169874Z"
    }
   },
   "id": "5f6951db7a26023b",
   "execution_count": 143
  },
  {
   "cell_type": "markdown",
   "source": [
    "Convert a 1-D array into a 2-D array with 3 rows\n",
    "Start with:\n",
    "exercise_2 = np.array([0, 1, 2, 3, 4, 5, 6, 7, 8])\n",
    "Desired output:\n",
    "[[ 0, 1, 2]\n",
    "[3, 4, 5]\n",
    "[6, 7, 8]]"
   ],
   "metadata": {
    "collapsed": false
   },
   "id": "f0dd64e100349f50"
  },
  {
   "cell_type": "code",
   "outputs": [
    {
     "name": "stdout",
     "output_type": "stream",
     "text": [
      "[[0 1 2]\n",
      " [3 4 5]\n",
      " [6 7 8]]\n"
     ]
    }
   ],
   "source": [
    "exercise_2 = np.array([0, 1, 2, 3, 4, 5, 6, 7, 8])\n",
    "exercise_2=exercise_2.reshape((3, 3))\n",
    "print(exercise_2)"
   ],
   "metadata": {
    "collapsed": false,
    "ExecuteTime": {
     "end_time": "2024-02-29T23:57:15.944925Z",
     "start_time": "2024-02-29T23:57:15.907559Z"
    }
   },
   "id": "761cf6b8397958aa",
   "execution_count": 146
  },
  {
   "cell_type": "markdown",
   "source": [
    "Add 202 to all the values in given array\n",
    "Start with:\n",
    "exercise_3 = np.arange(4).reshape(2,-1)\n",
    "Desired output:\n",
    "[[202, 203]\n",
    "[204, 205]]"
   ],
   "metadata": {
    "collapsed": false
   },
   "id": "c88cd411aaca8c8a"
  },
  {
   "cell_type": "code",
   "outputs": [
    {
     "name": "stdout",
     "output_type": "stream",
     "text": [
      "[[202 203]\n",
      " [204 205]]\n"
     ]
    }
   ],
   "source": [
    "exercise_3 = np.arange(4).reshape(2,-1)\n",
    "exercise_3+=202\n",
    "print(exercise_3)"
   ],
   "metadata": {
    "collapsed": false,
    "ExecuteTime": {
     "end_time": "2024-03-01T00:00:15.788921Z",
     "start_time": "2024-03-01T00:00:15.723286Z"
    }
   },
   "id": "ca75880c916211fa",
   "execution_count": 152
  },
  {
   "cell_type": "markdown",
   "source": [
    "Generate a 1-D array of 10 random integers. Each integer should be a number between 30 and 40 (inclusive)\n",
    "Sample of desired output:\n",
    "[36, 30, 36, 38, 31, 35, 36, 30, 32, 34]"
   ],
   "metadata": {
    "collapsed": false
   },
   "id": "50f95179ae49dc6d"
  },
  {
   "cell_type": "code",
   "outputs": [
    {
     "name": "stdout",
     "output_type": "stream",
     "text": [
      "[[10 14 11 13 12 10 12 17 18 13]]\n"
     ]
    }
   ],
   "source": [
    "exercise_4=np.random.randint(10, 21, (1, 10));\n",
    "print(exercise_4);"
   ],
   "metadata": {
    "collapsed": false,
    "ExecuteTime": {
     "end_time": "2024-03-01T00:02:15.252780Z",
     "start_time": "2024-03-01T00:02:15.148367Z"
    }
   },
   "id": "b717a76f6a783ae5",
   "execution_count": 156
  },
  {
   "cell_type": "markdown",
   "source": [
    "Find the positions of:\n",
    "elements in x where its value is more than its corresponding element in y, and\n",
    "elements in x where its value is equals to its corresponding element in y.\n",
    "Start with these:\n",
    "x = np.array([21, 64, 86, 22, 74, 55, 81, 79, 90, 89])\n",
    "y = np.array([21, 7, 3, 45, 10, 29, 55, 4, 37, 18])\n",
    "Desired output:\n",
    "(array([1, 2, 4, 5, 6, 7, 8, 9]),) and (array([0]),)"
   ],
   "metadata": {
    "collapsed": false
   },
   "id": "1f29a6586eddfbda"
  },
  {
   "cell_type": "code",
   "outputs": [
    {
     "name": "stdout",
     "output_type": "stream",
     "text": [
      "(array([1, 2, 4, 5, 6, 7, 8, 9]),)\n",
      "(array([0]),)\n"
     ]
    }
   ],
   "source": [
    "x = np.array([21, 64, 86, 22, 74, 55, 81, 79, 90, 89])\n",
    "y = np.array([21, 7, 3, 45, 10, 29, 55, 4, 37, 18])\n",
    "\n",
    "\n",
    "a = np.where(x > y)\n",
    "\n",
    "\n",
    "b = np.where(x == y)\n",
    "\n",
    "print(a)\n",
    "print(b)"
   ],
   "metadata": {
    "collapsed": false,
    "ExecuteTime": {
     "end_time": "2024-03-01T00:04:24.029720Z",
     "start_time": "2024-03-01T00:04:23.968154Z"
    }
   },
   "id": "92d729aa22caf6e",
   "execution_count": 159
  },
  {
   "cell_type": "markdown",
   "source": [
    "Extract the first four columns of this 2-D array\n",
    "Start with this:\n",
    "exercise_6 = np.arange(100).reshape(5,-1)\n",
    "Desired output:\n",
    "[[ 0 1 2 3]\n",
    "[20 21 22 23]\n",
    "[40 41 42 43]\n",
    "[60 61 62 63]\n",
    "[80 81 82 83]]"
   ],
   "metadata": {
    "collapsed": false
   },
   "id": "eb5d9d489901e318"
  },
  {
   "cell_type": "code",
   "outputs": [
    {
     "name": "stdout",
     "output_type": "stream",
     "text": [
      "[[ 0  1  2  3]\n",
      " [20 21 22 23]\n",
      " [40 41 42 43]\n",
      " [60 61 62 63]\n",
      " [80 81 82 83]]\n"
     ]
    }
   ],
   "source": [
    "exercise_6 = np.arange(100).reshape(5,-1)\n",
    "myArray=exercise_6[:, :4]\n",
    "print(myArray)"
   ],
   "metadata": {
    "collapsed": false,
    "ExecuteTime": {
     "end_time": "2024-03-01T00:05:22.990003Z",
     "start_time": "2024-03-01T00:05:22.898095Z"
    }
   },
   "id": "e11f5c32a10d50e",
   "execution_count": 160
  },
  {
   "cell_type": "code",
   "outputs": [],
   "source": [],
   "metadata": {
    "collapsed": false
   },
   "id": "3c4548b7449c1d79"
  }
 ],
 "metadata": {
  "kernelspec": {
   "display_name": "Python 3",
   "language": "python",
   "name": "python3"
  },
  "language_info": {
   "codemirror_mode": {
    "name": "ipython",
    "version": 2
   },
   "file_extension": ".py",
   "mimetype": "text/x-python",
   "name": "python",
   "nbconvert_exporter": "python",
   "pygments_lexer": "ipython2",
   "version": "2.7.6"
  }
 },
 "nbformat": 4,
 "nbformat_minor": 5
}
