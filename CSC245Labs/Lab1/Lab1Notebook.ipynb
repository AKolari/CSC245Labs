{
 "cells": [
  {
   "cell_type": "code",
   "execution_count": 40,
   "id": "initial_id",
   "metadata": {
    "collapsed": true,
    "ExecuteTime": {
     "end_time": "2024-02-21T00:29:39.957188Z",
     "start_time": "2024-02-21T00:29:39.746224Z"
    }
   },
   "outputs": [],
   "source": [
    "import numpy as np;"
   ]
  },
  {
   "cell_type": "markdown",
   "source": [
    "1. Create a rank 2 (2D) array that resembles the matrix below.\n",
    "[[11 12 13 14]\n",
    " [15 16 17 18]]"
   ],
   "metadata": {
    "collapsed": false
   },
   "id": "ca0fa7c839853020"
  },
  {
   "cell_type": "code",
   "outputs": [
    {
     "name": "stdout",
     "output_type": "stream",
     "text": [
      "[[11 12 13 14]\n",
      " [15 16 17 18]]\n"
     ]
    }
   ],
   "source": [
    "myArray=np.array([[11, 12, 13, 14], [15, 16, 17, 18]]);\n",
    "print(myArray);"
   ],
   "metadata": {
    "collapsed": false,
    "ExecuteTime": {
     "end_time": "2024-02-21T00:29:40.042300Z",
     "start_time": "2024-02-21T00:29:39.918598Z"
    }
   },
   "id": "39807ad7ed09e073",
   "execution_count": 41
  },
  {
   "cell_type": "markdown",
   "source": [
    "1. Create an array with 4 rows and 3 columns of zeros. Your results should look as below:\n",
    "[[0. 0. 0.]\n",
    " [0. 0. 0.]\n",
    " [0. 0. 0.]\n",
    " [0. 0. 0.]]\n"
   ],
   "metadata": {
    "collapsed": false
   },
   "id": "b1bb3c0dfd8549d4"
  },
  {
   "cell_type": "code",
   "outputs": [
    {
     "name": "stdout",
     "output_type": "stream",
     "text": [
      "[[0. 0. 0. 0.]\n",
      " [0. 0. 0. 0.]\n",
      " [0. 0. 0. 0.]\n",
      " [0. 0. 0. 0.]]\n"
     ]
    }
   ],
   "source": [
    "myArray=np.zeros((4, 4));\n",
    "print(myArray);\n",
    "\n"
   ],
   "metadata": {
    "collapsed": false,
    "ExecuteTime": {
     "end_time": "2024-02-21T00:29:40.128346Z",
     "start_time": "2024-02-21T00:29:39.985738Z"
    }
   },
   "id": "45db341e350b1023",
   "execution_count": 42
  },
  {
   "cell_type": "markdown",
   "source": [
    "2.Create an array of ones that has 3 rows and 4 columns. Your results should look as below:\n",
    "[[1. 1. 1. 1.]\n",
    "[1. 1. 1. 1.]\n",
    "[1. 1. 1. 1.]]"
   ],
   "metadata": {
    "collapsed": false
   },
   "id": "3d7b176539b7349c"
  },
  {
   "cell_type": "code",
   "outputs": [
    {
     "name": "stdout",
     "output_type": "stream",
     "text": [
      "[[1. 1. 1. 1.]\n",
      " [1. 1. 1. 1.]\n",
      " [1. 1. 1. 1.]]\n"
     ]
    }
   ],
   "source": [
    "myArray=np.ones((3, 4));\n",
    "print(myArray);\n"
   ],
   "metadata": {
    "collapsed": false,
    "ExecuteTime": {
     "end_time": "2024-02-21T00:29:40.250606Z",
     "start_time": "2024-02-21T00:29:40.069019Z"
    }
   },
   "id": "72ffe18c3a004bdf",
   "execution_count": 43
  },
  {
   "cell_type": "markdown",
   "source": [
    "3. Create an array containing integers 4 to 13 inclusive. Your results should look as below:\n",
    "[4 5 6 7 8 9 10 11 12 13]"
   ],
   "metadata": {
    "collapsed": false
   },
   "id": "61873a1dc31e5b69"
  },
  {
   "cell_type": "code",
   "outputs": [
    {
     "name": "stdout",
     "output_type": "stream",
     "text": [
      "[ 3  4  5  6  7  8  9 10 11 12 13]\n"
     ]
    }
   ],
   "source": [
    "myArray=np.arange(3, 14);\n",
    "print(myArray);"
   ],
   "metadata": {
    "collapsed": false,
    "ExecuteTime": {
     "end_time": "2024-02-21T00:29:40.301197Z",
     "start_time": "2024-02-21T00:29:40.154305Z"
    }
   },
   "id": "f0abb5bbf8098fcf",
   "execution_count": 44
  },
  {
   "cell_type": "markdown",
   "source": [
    "4. Create an array containing\n",
    "[0., 1.5, 3., 4.5]\n"
   ],
   "metadata": {
    "collapsed": false
   },
   "id": "3774d7a0b874ab89"
  },
  {
   "cell_type": "code",
   "outputs": [
    {
     "name": "stdout",
     "output_type": "stream",
     "text": [
      "[0.  1.5 3.  4.5]\n"
     ]
    }
   ],
   "source": [
    "myArray=np.linspace(0, 4.5, 4);\n",
    "print(myArray);"
   ],
   "metadata": {
    "collapsed": false,
    "ExecuteTime": {
     "end_time": "2024-02-21T00:29:40.468575Z",
     "start_time": "2024-02-21T00:29:40.286492Z"
    }
   },
   "id": "39c80c6765c9f2a9",
   "execution_count": 45
  },
  {
   "cell_type": "markdown",
   "source": [
    "5. Create a 2 by 2 array containing '4' in each position. Your results should look like this:\n",
    "[[4 4]\n",
    " [4 4]]"
   ],
   "metadata": {
    "collapsed": false
   },
   "id": "2f28217de8af426a"
  },
  {
   "cell_type": "code",
   "outputs": [
    {
     "name": "stdout",
     "output_type": "stream",
     "text": [
      "[[4 4]\n",
      " [4 4]]\n"
     ]
    }
   ],
   "source": [
    "myArray=np.full((2, 2), 4);\n",
    "print(myArray);"
   ],
   "metadata": {
    "collapsed": false,
    "ExecuteTime": {
     "end_time": "2024-02-21T00:29:40.569210Z",
     "start_time": "2024-02-21T00:29:40.466569Z"
    }
   },
   "id": "d6c02e5a5b24a2a5",
   "execution_count": 46
  },
  {
   "cell_type": "markdown",
   "source": [
    "i. Identity matrix of size 4\n",
    "[[1. 0. 0. 0.]\n",
    " [0. 1. 0. 0.]\n",
    " [0. 0. 1. 0.]\n",
    " [0. 0. 0. 1.]]\n",
    "ii. Diagonal matrix with [10,12] as the diagonals\n",
    "[[10  0]\n",
    " [ 0 12]]"
   ],
   "metadata": {
    "collapsed": false
   },
   "id": "8aa08504f9a92b2a"
  },
  {
   "cell_type": "code",
   "outputs": [
    {
     "name": "stdout",
     "output_type": "stream",
     "text": [
      "[[1. 0. 0. 0.]\n",
      " [0. 1. 0. 0.]\n",
      " [0. 0. 1. 0.]\n",
      " [0. 0. 0. 1.]]\n",
      "[[10  0]\n",
      " [ 0 12]]\n"
     ]
    }
   ],
   "source": [
    "myArray=np.eye(4)\n",
    "print(myArray);\n",
    "myArray=np.diag([10, 12])\n",
    "print(myArray);"
   ],
   "metadata": {
    "collapsed": false,
    "ExecuteTime": {
     "end_time": "2024-02-21T00:29:40.630459Z",
     "start_time": "2024-02-21T00:29:40.514637Z"
    }
   },
   "id": "f40bc149a5c461d8",
   "execution_count": 47
  },
  {
   "cell_type": "markdown",
   "source": [
    "7. Create a 3 by 3 array with random floats in [0, 10]. Your answer may be different because it is random but it should look something like this:\n",
    "[[6.3685612  0.61720883 8.93157783]\n",
    " [3.69927617 5.79879583 7.62145626]\n",
    " [7.21895112 4.02011535 4.48844787]]"
   ],
   "metadata": {
    "collapsed": false
   },
   "id": "50efaf14f5e091df"
  },
  {
   "cell_type": "code",
   "outputs": [
    {
     "name": "stdout",
     "output_type": "stream",
     "text": [
      "[[6.79381531 3.87588334 5.03146874]\n",
      " [9.73155747 7.28004937 1.097365  ]\n",
      " [4.15645867 6.85248804 9.36929667]]\n"
     ]
    }
   ],
   "source": [
    "myArray=np.random.random((3,3))*10;\n",
    "print(myArray);"
   ],
   "metadata": {
    "collapsed": false,
    "ExecuteTime": {
     "end_time": "2024-02-21T00:29:40.751625Z",
     "start_time": "2024-02-21T00:29:40.584323Z"
    }
   },
   "id": "1917481df34e6ee5",
   "execution_count": 48
  },
  {
   "cell_type": "markdown",
   "source": [
    "8. Create a 3 by 3 array with random integers in [10, 20]. Your answer may be different because it is random but it should look something like this:\n",
    "[[19 11 13]\n",
    " [10 11 13]\n",
    " [11 14 10]]"
   ],
   "metadata": {
    "collapsed": false
   },
   "id": "f11faae3b53bd6b3"
  },
  {
   "cell_type": "code",
   "outputs": [
    {
     "name": "stdout",
     "output_type": "stream",
     "text": [
      "[[15 16 15]\n",
      " [19 14 15]\n",
      " [12 12 16]]\n"
     ]
    }
   ],
   "source": [
    "myArray=np.random.randint(10, 20, (3, 3));\n",
    "print(myArray);"
   ],
   "metadata": {
    "collapsed": false,
    "ExecuteTime": {
     "end_time": "2024-02-21T00:29:40.840506Z",
     "start_time": "2024-02-21T00:29:40.732113Z"
    }
   },
   "id": "cc4f97958ce8ed54",
   "execution_count": 49
  },
  {
   "cell_type": "markdown",
   "source": [
    "1. Use this array for the following practice:"
   ],
   "metadata": {
    "collapsed": false
   },
   "id": "975afc07baadad83"
  },
  {
   "cell_type": "code",
   "outputs": [],
   "source": [
    "myArray = np.array([[11,12,13], [14,15,16], [17,18,19]])"
   ],
   "metadata": {
    "collapsed": false,
    "ExecuteTime": {
     "end_time": "2024-02-21T00:29:40.859417Z",
     "start_time": "2024-02-21T00:29:40.799179Z"
    }
   },
   "id": "5fffa40b84cc1b0",
   "execution_count": 50
  },
  {
   "cell_type": "markdown",
   "source": [
    "\n",
    "a. Get a subarray of the first row and first 2 columns. Your results should look like this:\n",
    "[11 12]\n"
   ],
   "metadata": {
    "collapsed": false
   },
   "id": "cd75dff3a6dad213"
  },
  {
   "cell_type": "code",
   "outputs": [
    {
     "name": "stdout",
     "output_type": "stream",
     "text": [
      "[11 12]\n"
     ]
    }
   ],
   "source": [
    "\n",
    "print(myArray[0, 0:2]);"
   ],
   "metadata": {
    "collapsed": false,
    "ExecuteTime": {
     "end_time": "2024-02-21T00:30:48.681409Z",
     "start_time": "2024-02-21T00:30:48.629641Z"
    }
   },
   "id": "46f8c83f682ac2a4",
   "execution_count": 54
  },
  {
   "cell_type": "markdown",
   "source": [
    "b. Change all elements in 1st and second row to 0. Your results should look like this:\n",
    "[[ 0  0  0]\n",
    " [ 0  0  0]\n",
    " [17 18 19]]\n",
    " "
   ],
   "metadata": {
    "collapsed": false
   },
   "id": "1ca745caf06fe8e2"
  },
  {
   "cell_type": "code",
   "outputs": [
    {
     "name": "stdout",
     "output_type": "stream",
     "text": [
      "[[ 0  0  0]\n",
      " [ 0  0  0]\n",
      " [17 18 19]]\n"
     ]
    }
   ],
   "source": [
    "myArray[0:2, 0:]=0;\n",
    "print(myArray);"
   ],
   "metadata": {
    "collapsed": false,
    "ExecuteTime": {
     "end_time": "2024-02-21T00:34:01.889308Z",
     "start_time": "2024-02-21T00:34:01.827235Z"
    }
   },
   "id": "43cf7254455dada9",
   "execution_count": 56
  },
  {
   "cell_type": "markdown",
   "source": [
    "2. Create an array that contains [0,1,2,3,4,5,6,7,8,9,10,11,12,13,14,15,16,17,18,19,20] and reverse the order."
   ],
   "metadata": {
    "collapsed": false
   },
   "id": "623366a37668282e"
  },
  {
   "cell_type": "code",
   "outputs": [
    {
     "name": "stdout",
     "output_type": "stream",
     "text": [
      "[20 19 18 17 16 15 14 13 12 11 10  9  8  7  6  5  4  3  2  1  0]\n"
     ]
    }
   ],
   "source": [
    "myArray=np.arange(0, 21);\n",
    "print(myArray[::-1]);"
   ],
   "metadata": {
    "collapsed": false,
    "ExecuteTime": {
     "end_time": "2024-02-21T00:37:58.010118Z",
     "start_time": "2024-02-21T00:37:57.733244Z"
    }
   },
   "id": "95060c23d85290a8",
   "execution_count": 66
  },
  {
   "cell_type": "markdown",
   "source": [
    "RESHAPING\n",
    "Use this array for the following practice:"
   ],
   "metadata": {
    "collapsed": false
   },
   "id": "1fedae358051d151"
  },
  {
   "cell_type": "code",
   "outputs": [],
   "source": [
    "myArray = np.array([[11,12,13], [14,15,16]])"
   ],
   "metadata": {
    "collapsed": false,
    "ExecuteTime": {
     "end_time": "2024-02-21T00:40:02.580611Z",
     "start_time": "2024-02-21T00:40:02.551955Z"
    }
   },
   "id": "e8e9319e879a291e",
   "execution_count": 68
  },
  {
   "cell_type": "markdown",
   "source": [
    "Reshape the array to an array with 3 rows. Your results should look like this:\n",
    "[[11 12]\n",
    " [13 14]\n",
    " [15 16]]\n"
   ],
   "metadata": {
    "collapsed": false
   },
   "id": "7b0daaf153811a9"
  },
  {
   "cell_type": "code",
   "outputs": [
    {
     "name": "stdout",
     "output_type": "stream",
     "text": [
      "[[11 12]\n",
      " [13 14]\n",
      " [15 16]]\n"
     ]
    }
   ],
   "source": [
    "\n",
    "print(myArray.reshape((3, 2)));"
   ],
   "metadata": {
    "collapsed": false,
    "ExecuteTime": {
     "end_time": "2024-02-21T00:40:24.382631Z",
     "start_time": "2024-02-21T00:40:24.360388Z"
    }
   },
   "id": "2b8700bc79b5a1df",
   "execution_count": 70
  },
  {
   "cell_type": "markdown",
   "source": [
    "MATH\n",
    "Use this array for the following practice:\n",
    "myArray = np.arange(10)\n",
    "1. Find the square of every number in array\n",
    "2. Find the square root of every number in array\n",
    "3. Multiply the square of each number in array with its respective square root"
   ],
   "metadata": {
    "collapsed": false
   },
   "id": "5cd2b1adf3e69c1d"
  },
  {
   "cell_type": "code",
   "outputs": [
    {
     "name": "stdout",
     "output_type": "stream",
     "text": [
      "[ 0  1  4  9 16 25 36 49 64 81]\n",
      "[0 1 1 1 2 2 2 2 2 3]\n",
      "[   0    2    5   13   32   71  156  338  724 1536]\n"
     ]
    }
   ],
   "source": [
    "myArray = np.arange(10)\n",
    "for(i) in myArray:\n",
    "    myArray[i]=myArray[i]*myArray[i];\n",
    "print(myArray);\n",
    "myArray = np.arange(10)\n",
    "for(i) in myArray:\n",
    "    myArray[i]=np.sqrt(myArray[i]);\n",
    "print(myArray);\n",
    "myArray = np.arange(10)\n",
    "for(i) in myArray:\n",
    "    myArray[i]=np.sqrt(myArray[i])*np.exp2(myArray[i]);\n",
    "print(myArray);  "
   ],
   "metadata": {
    "collapsed": false,
    "ExecuteTime": {
     "end_time": "2024-02-21T00:50:48.547488Z",
     "start_time": "2024-02-21T00:50:48.508555Z"
    }
   },
   "id": "961e85e874b6ede9",
   "execution_count": 73
  },
  {
   "cell_type": "code",
   "outputs": [],
   "source": [],
   "metadata": {
    "collapsed": false
   },
   "id": "9874896e9049a31"
  }
 ],
 "metadata": {
  "kernelspec": {
   "display_name": "Python 3",
   "language": "python",
   "name": "python3"
  },
  "language_info": {
   "codemirror_mode": {
    "name": "ipython",
    "version": 2
   },
   "file_extension": ".py",
   "mimetype": "text/x-python",
   "name": "python",
   "nbconvert_exporter": "python",
   "pygments_lexer": "ipython2",
   "version": "2.7.6"
  }
 },
 "nbformat": 4,
 "nbformat_minor": 5
}
